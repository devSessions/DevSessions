{
 "cells": [
  {
   "cell_type": "code",
   "execution_count": 1,
   "metadata": {
    "collapsed": true
   },
   "outputs": [],
   "source": [
    "%matplotlib inline"
   ]
  },
  {
   "cell_type": "markdown",
   "metadata": {},
   "source": [
    "### Importing Numpy, Keras and its optimizers"
   ]
  },
  {
   "cell_type": "code",
   "execution_count": 3,
   "metadata": {},
   "outputs": [
    {
     "name": "stderr",
     "output_type": "stream",
     "text": [
      "Using Theano backend.\n"
     ]
    }
   ],
   "source": [
    "from __future__ import division,print_function\n",
    "import numpy as np\n",
    "from numpy.random import random\n",
    "\n",
    "import keras\n",
    "from keras.models import Sequential\n",
    "from keras.layers.core import Flatten, Dense, Dropout, Lambda\n",
    "from keras.optimizers import SGD"
   ]
  },
  {
   "cell_type": "code",
   "execution_count": 37,
   "metadata": {},
   "outputs": [],
   "source": [
    "x = random((30,1))"
   ]
  },
  {
   "cell_type": "markdown",
   "metadata": {},
   "source": [
    " ## y = 2 * x + 2\n"
   ]
  },
  {
   "cell_type": "code",
   "execution_count": 38,
   "metadata": {
    "collapsed": true
   },
   "outputs": [],
   "source": [
    "y = np.dot(x, 2.) + 2."
   ]
  },
  {
   "cell_type": "markdown",
   "metadata": {},
   "source": [
    "#### Showing Values of X"
   ]
  },
  {
   "cell_type": "code",
   "execution_count": 39,
   "metadata": {},
   "outputs": [
    {
     "data": {
      "text/plain": [
       "array([[ 0.1473186 ],\n",
       "       [ 0.9052007 ],\n",
       "       [ 0.44666439],\n",
       "       [ 0.15512029],\n",
       "       [ 0.49625389],\n",
       "       [ 0.88094727],\n",
       "       [ 0.95350086],\n",
       "       [ 0.97620024],\n",
       "       [ 0.07767123],\n",
       "       [ 0.20444086],\n",
       "       [ 0.4311851 ],\n",
       "       [ 0.36499696],\n",
       "       [ 0.50469161],\n",
       "       [ 0.39442252],\n",
       "       [ 0.68550133],\n",
       "       [ 0.29571877],\n",
       "       [ 0.20622951],\n",
       "       [ 0.01471398],\n",
       "       [ 0.32523735],\n",
       "       [ 0.85129617],\n",
       "       [ 0.33465863],\n",
       "       [ 0.9128122 ],\n",
       "       [ 0.9291631 ],\n",
       "       [ 0.94645524],\n",
       "       [ 0.31623003],\n",
       "       [ 0.78733196],\n",
       "       [ 0.37291789],\n",
       "       [ 0.46133165],\n",
       "       [ 0.94367175],\n",
       "       [ 0.34948461]])"
      ]
     },
     "execution_count": 39,
     "metadata": {},
     "output_type": "execute_result"
    }
   ],
   "source": [
    "x"
   ]
  },
  {
   "cell_type": "markdown",
   "metadata": {},
   "source": [
    "#### Showing Values of Y"
   ]
  },
  {
   "cell_type": "code",
   "execution_count": 40,
   "metadata": {},
   "outputs": [
    {
     "data": {
      "text/plain": [
       "array([[ 2.2946372 ],\n",
       "       [ 3.81040141],\n",
       "       [ 2.89332878],\n",
       "       [ 2.31024058],\n",
       "       [ 2.99250777],\n",
       "       [ 3.76189455],\n",
       "       [ 3.90700173],\n",
       "       [ 3.95240048],\n",
       "       [ 2.15534246],\n",
       "       [ 2.40888171],\n",
       "       [ 2.86237019],\n",
       "       [ 2.72999391],\n",
       "       [ 3.00938323],\n",
       "       [ 2.78884503],\n",
       "       [ 3.37100265],\n",
       "       [ 2.59143755],\n",
       "       [ 2.41245903],\n",
       "       [ 2.02942796],\n",
       "       [ 2.65047469],\n",
       "       [ 3.70259234],\n",
       "       [ 2.66931727],\n",
       "       [ 3.8256244 ],\n",
       "       [ 3.85832621],\n",
       "       [ 3.89291048],\n",
       "       [ 2.63246007],\n",
       "       [ 3.57466393],\n",
       "       [ 2.74583579],\n",
       "       [ 2.92266329],\n",
       "       [ 3.88734349],\n",
       "       [ 2.69896921]])"
      ]
     },
     "execution_count": 40,
     "metadata": {},
     "output_type": "execute_result"
    }
   ],
   "source": [
    "y"
   ]
  },
  {
   "cell_type": "markdown",
   "metadata": {},
   "source": [
    "#### In Keras Sequential Means a Model which is like seqeuntial stack of layers. Its just something Keras uses to create models."
   ]
  },
  {
   "cell_type": "markdown",
   "metadata": {},
   "source": [
    "#### In addition to this Keras, uses Dense method to create a linear model, which is what we are going to use in our linear problem"
   ]
  },
  {
   "cell_type": "code",
   "execution_count": 41,
   "metadata": {
    "collapsed": true
   },
   "outputs": [],
   "source": [
    "linear_model = Sequential([ Dense(1, input_shape=(1,)) ])"
   ]
  },
  {
   "cell_type": "markdown",
   "metadata": {},
   "source": [
    "Here the first argument of Dense is the required  output dimension we required, here as the output is 1 dimensional array, we use 1. And as the input is also 1 dimensional we use 1"
   ]
  },
  {
   "cell_type": "markdown",
   "metadata": {},
   "source": [
    "Then we call Compile method to the linear model we created with required Gradient descent Algorithm, Learning Rate and Loss function\n",
    "\n",
    "Here, SGD is used for optimizer with learning rate of 0.1 and MSE or Mean Squared Loss as Loss function"
   ]
  },
  {
   "cell_type": "code",
   "execution_count": 42,
   "metadata": {
    "collapsed": true
   },
   "outputs": [],
   "source": [
    "linear_model.compile(optimizer=SGD(lr=0.1), loss='mse')"
   ]
  },
  {
   "cell_type": "markdown",
   "metadata": {},
   "source": [
    "This compile method first initializes weights with random values which is far from correct values"
   ]
  },
  {
   "cell_type": "markdown",
   "metadata": {},
   "source": [
    "If we evaluate or check the Y predictions now with the random values, we will get result of Loss Function very large"
   ]
  },
  {
   "cell_type": "code",
   "execution_count": 43,
   "metadata": {},
   "outputs": [
    {
     "name": "stdout",
     "output_type": "stream",
     "text": [
      "30/30 [==============================] - 0s\n"
     ]
    },
    {
     "data": {
      "text/plain": [
       "7.3708395957946777"
      ]
     },
     "execution_count": 43,
     "metadata": {},
     "output_type": "execute_result"
    }
   ],
   "source": [
    "linear_model.evaluate(x, y)"
   ]
  },
  {
   "cell_type": "markdown",
   "metadata": {},
   "source": [
    "To calculate weights with given input/output pair, we have to call fit() method on our model"
   ]
  },
  {
   "cell_type": "code",
   "execution_count": 44,
   "metadata": {},
   "outputs": [
    {
     "name": "stdout",
     "output_type": "stream",
     "text": [
      "Epoch 1/5\n",
      "30/30 [==============================] - 0s - loss: 0.5235     \n",
      "Epoch 2/5\n",
      "30/30 [==============================] - 0s - loss: 0.0100     \n",
      "Epoch 3/5\n",
      "30/30 [==============================] - 0s - loss: 0.0035     \n",
      "Epoch 4/5\n",
      "30/30 [==============================] - 0s - loss: 0.0017         \n",
      "Epoch 5/5\n",
      "30/30 [==============================] - 0s - loss: 6.4502e-04 \n"
     ]
    },
    {
     "data": {
      "text/plain": [
       "<keras.callbacks.History at 0x10b67e630>"
      ]
     },
     "execution_count": 44,
     "metadata": {},
     "output_type": "execute_result"
    }
   ],
   "source": [
    "linear_model.fit(x,y, nb_epoch=5, batch_size=1)"
   ]
  },
  {
   "cell_type": "markdown",
   "metadata": {},
   "source": [
    "Here nb_epoch is the number of epochs the calculation/learning should be run. 1 Epoch means going through each input ones... so 5 Epoch means going through all the inputs 5 times. "
   ]
  },
  {
   "cell_type": "markdown",
   "metadata": {},
   "source": [
    "Generally input data is fed in batches/collection, which are like 10-100 input data at onces, not all of them at once"
   ]
  },
  {
   "cell_type": "markdown",
   "metadata": {},
   "source": [
    "Now if we check the loss value, it will be lot less than before"
   ]
  },
  {
   "cell_type": "code",
   "execution_count": 45,
   "metadata": {},
   "outputs": [
    {
     "data": {
      "text/plain": [
       "0.0003556846349965781"
      ]
     },
     "execution_count": 45,
     "metadata": {},
     "output_type": "execute_result"
    }
   ],
   "source": [
    "linear_model.evaluate(x, y, verbose=0)"
   ]
  },
  {
   "cell_type": "markdown",
   "metadata": {},
   "source": [
    "We can only check the weights, the model has calculated"
   ]
  },
  {
   "cell_type": "code",
   "execution_count": 46,
   "metadata": {},
   "outputs": [
    {
     "data": {
      "text/plain": [
       "[array([[ 1.94116473]], dtype=float32), array([ 2.03684092], dtype=float32)]"
      ]
     },
     "execution_count": 46,
     "metadata": {},
     "output_type": "execute_result"
    }
   ],
   "source": [
    "linear_model.get_weights()"
   ]
  },
  {
   "cell_type": "markdown",
   "metadata": {},
   "source": [
    "here 1.9411 is nearly equal to correct value which is 2, and the bias 2.0368 which is close to 2.0"
   ]
  },
  {
   "cell_type": "code",
   "execution_count": null,
   "metadata": {
    "collapsed": true
   },
   "outputs": [],
   "source": []
  }
 ],
 "metadata": {
  "kernelspec": {
   "display_name": "Python 3",
   "language": "python",
   "name": "python3"
  },
  "language_info": {
   "codemirror_mode": {
    "name": "ipython",
    "version": 3
   },
   "file_extension": ".py",
   "mimetype": "text/x-python",
   "name": "python",
   "nbconvert_exporter": "python",
   "pygments_lexer": "ipython3",
   "version": "3.6.1"
  }
 },
 "nbformat": 4,
 "nbformat_minor": 2
}
